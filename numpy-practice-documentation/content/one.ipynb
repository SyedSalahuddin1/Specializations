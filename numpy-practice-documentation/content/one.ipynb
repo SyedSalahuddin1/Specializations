{
 "cells": [
  {
   "cell_type": "code",
   "execution_count": null,
   "id": "a1ba6ecb",
   "metadata": {},
   "outputs": [],
   "source": [
    "# Lists = Slow \n",
    "size, reference count, object type,object value\n",
    "while in list all 8 blocks are not used next to each other\n",
    "lists uses pointer structure\n",
    "Not effective cache utilization\n",
    "direct usage gives error\n",
    "\n",
    "# Numpy = Fast IT USES INT FORM int8, int32..\n",
    "Faster to read less bytes of memory\n",
    "No type checking when iterating through objects\n",
    "Numpy uses contiguous memory - All 8 blocks are written next to each other\n",
    "SIMD Vector Processing = Single instruction multiple Data\n",
    "Effective Cache Utilization\n",
    "Direct usage such as mul,add, sub\n",
    "\n",
    "# Application of Numpy\n",
    "Mathematics= MATLAB Replacement\n",
    "Plotting(Matplotlib)\n",
    "Backend(Pandas, Connnect 4, Digital Photogrophy)\n",
    "Machine Learning =Tensors"
   ]
  },
  {
   "cell_type": "code",
   "execution_count": 1,
   "id": "d62c2199",
   "metadata": {},
   "outputs": [],
   "source": [
    "import numpy as np"
   ]
  },
  {
   "cell_type": "code",
   "execution_count": 2,
   "id": "918bc6ba",
   "metadata": {},
   "outputs": [
    {
     "name": "stdout",
     "output_type": "stream",
     "text": [
      "[1 2 3]\n"
     ]
    }
   ],
   "source": [
    "a = np.array([1,2,3])\n",
    "print(a)"
   ]
  }
 ],
 "metadata": {
  "kernelspec": {
   "display_name": ".venv (3.9.10)",
   "language": "python",
   "name": "python3"
  },
  "language_info": {
   "codemirror_mode": {
    "name": "ipython",
    "version": 3
   },
   "file_extension": ".py",
   "mimetype": "text/x-python",
   "name": "python",
   "nbconvert_exporter": "python",
   "pygments_lexer": "ipython3",
   "version": "3.9.10"
  }
 },
 "nbformat": 4,
 "nbformat_minor": 5
}
